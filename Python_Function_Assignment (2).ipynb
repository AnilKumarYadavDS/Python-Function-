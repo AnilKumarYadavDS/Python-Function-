{
  "nbformat": 4,
  "nbformat_minor": 0,
  "metadata": {
    "colab": {
      "provenance": []
    },
    "kernelspec": {
      "name": "python3",
      "display_name": "Python 3"
    },
    "language_info": {
      "name": "python"
    }
  },
  "cells": [
    {
      "cell_type": "markdown",
      "source": [
        "# Python Function Assignment"
      ],
      "metadata": {
        "id": "pBwUJ9aXSMc4"
      }
    },
    {
      "cell_type": "markdown",
      "source": [
        "## Theory questions"
      ],
      "metadata": {
        "id": "U7YEtC_VShlL"
      }
    },
    {
      "cell_type": "markdown",
      "source": [
        "1. What is the difference between a function and a method in Python?\n",
        "   - Function refers to a block of code which performs specific task, for a specified purpose.\n",
        "   - function provides the reusablity and maintaing of code.\n",
        "   - to defined the function it is used to(def) keyword.\n",
        "   - It is memory efficient."
      ],
      "metadata": {
        "id": "WeHe_ZjtSxha"
      }
    },
    {
      "cell_type": "code",
      "source": [
        "# here defining a function.\n",
        "def myfunction(Name):\n",
        "  return f\"My name is {Name}\"\n",
        "\n",
        "myfunction(\"Anil Kumar\")"
      ],
      "metadata": {
        "id": "IpcWo6eyVogu"
      },
      "execution_count": null,
      "outputs": []
    },
    {
      "cell_type": "markdown",
      "source": [
        "- Method\n",
        "- a method is a function associated with an object or a class, used to perform specific operations on the data stored within objects or classes.\n",
        "- Method concept comes into the object oriented programming language."
      ],
      "metadata": {
        "id": "OusX__eaXiPP"
      }
    },
    {
      "cell_type": "markdown",
      "source": [
        "2.  Explain the concept of function arguments and parameters in Python?\n",
        "    - Parameters:-\n",
        "     - When we defined a function and put the variable into function with parenthesis, it is known as parameters.\n",
        "     - def myfunc(a=1, b=2, c=5):\n",
        "                def myfunc(Name):\n",
        "                   return f\"My name is {Name}\"\n",
        "     - here (Name) within the parenthesis is known as parameters.\n",
        "\n",
        "    - Arguments:-\n",
        "     - After the definition of a function,\n",
        "     - when we call the function,\n",
        "     - we put the value within the parenthesis is known as arguments.\n",
        "            def myfunc(Name):\n",
        "                return f\"My name is {Name}\"\n",
        "\n",
        "            myfunc(\"Anil\")\n",
        "     - Here (\"Anil\") is an arguments which is passing during calling the function."
      ],
      "metadata": {
        "id": "DBY0WRTjYclV"
      }
    },
    {
      "cell_type": "markdown",
      "source": [
        "3. What are the different ways to define and call a function in Python?\n",
        "   - You define a function using a def keyword and followed by the function name with the parenthesis and end the colon.and then write the return statement."
      ],
      "metadata": {
        "id": "W9yzRj-UZ-tP"
      }
    },
    {
      "cell_type": "code",
      "source": [
        "# Example of defining a function.\n",
        "def function1(x, y):\n",
        "  return x + y\n",
        "\n",
        "function1(2, 5)"
      ],
      "metadata": {
        "id": "pBiw-PkDptbW"
      },
      "execution_count": null,
      "outputs": []
    },
    {
      "cell_type": "markdown",
      "source": [
        "4. What is the purpose of the `return` statement in a Python function?\n",
        "  - Return is a statement not a keyword.\n",
        "  - The purpose of return statement is mainly, it generates the result and return the value out of from the console.\n",
        "\n"
      ],
      "metadata": {
        "id": "8dN47NILqB0c"
      }
    },
    {
      "cell_type": "markdown",
      "source": [
        "5. What are iterators in Python and how do they differ from iterables?\n",
        "   - It helps a user in iterating over another object (that is iterable)\n",
        "   - Iterators means basically it iterates over the data from just like list, tuple, dic, set.\n",
        "   - it is used when we need to perform the some sepecific task into the each element.\n",
        "   -  We can generate an iterator when we pass the object to the iter() method."
      ],
      "metadata": {
        "id": "Lucf-08tqtgK"
      }
    },
    {
      "cell_type": "markdown",
      "source": [
        "6.  Explain the concept of generators in Python and how they are defined?\n",
        "    - Generators:-\n",
        "      - Generator function allows you to declare a function.\n",
        "      - It behaves like an iterator.\n",
        "      - It provides a faster and easier way to create iterators.\n",
        "\n",
        "      - Generator are written using the function* syntax.\n",
        "      - When called,\n",
        "      -  generator functions do not initially execute their code. Instead,\n",
        "      -  they return a special type of iterator,\n",
        "      - It called a Generator."
      ],
      "metadata": {
        "id": "aFBAACQisB7f"
      }
    },
    {
      "cell_type": "markdown",
      "source": [
        "7. What are the advantages of using generators over regular functions?\n",
        "   - Regular functions returns the result all at the once,\n",
        "   - But the generator functions doesn't returns the result all at once,\n",
        "   - generators functions can create a infinite sequence of values as long as the sufficient memory storage to store them.\n",
        "   - but the regular functions can not create the infinite sequence values."
      ],
      "metadata": {
        "id": "T7eXYXA7slxO"
      }
    },
    {
      "cell_type": "markdown",
      "source": [
        "8. What is a lambda function in Python and when is it typically used?\n",
        "   - lambda function is an anonymous function, it is unnamed.\n",
        "   - It is used when we need one line of code.\n",
        "   - It is very fast in execution of nature.\n",
        "\n",
        "      - Syntax:-\n",
        "            - Squared_value = lambda x: x**2\n",
        "            - here this function returns the square of the number."
      ],
      "metadata": {
        "id": "zzRAK-oBugYd"
      }
    },
    {
      "cell_type": "markdown",
      "source": [
        "9.  Explain the purpose and usage of the `map()` function in Python?\n",
        "    - Map() function is actually does mapping the sequence of elements each by each and then generates the list.\n"
      ],
      "metadata": {
        "id": "PjQ0eE5XvgZL"
      }
    },
    {
      "cell_type": "code",
      "source": [
        "\"\"\"\n",
        "  - Exampls:-\n",
        "              My_list = [1, 2, 3, 4, 5]\n",
        "              Now we have to find the square value\n",
        "              of all elements and returns the output separately.\n",
        "\n",
        "\"\"\"\n",
        "My_list = [1, 2, 3, 4, 5]\n",
        "Squared_value = list(map(lambda x: x**2, My_list))\n",
        "\n",
        "print(Squared_value)"
      ],
      "metadata": {
        "id": "xTuYpy-9wg3E"
      },
      "execution_count": null,
      "outputs": []
    },
    {
      "cell_type": "markdown",
      "source": [
        "10.  What is the difference between `map()`, `reduce()`, and `filter()` functions in Python?\n",
        "     - map() functions iterates over the itearable and returns the out separately. and it works like a generator in Python.\n",
        "       - reduce() function also iterates over the itearable and returns the output in a single values always, It is imported from the package functool; import reduce from functool,\n",
        "       - It is a way to combine or aggregate a sequence of elements into a single value by repeatedly applying a specified function to pairs of elements.\n",
        "     \n",
        "           - filter() functions create a separate list and contain those data which met the some specified condition.\n"
      ],
      "metadata": {
        "id": "I7mg-H_OxJwK"
      }
    },
    {
      "cell_type": "code",
      "source": [
        "# Example of map() functiion.\n",
        "\n",
        "My_num = [1, 2, 3, 4, 5]\n",
        "Cubic_value = list(map(lambda x: x**3, My_num))\n",
        "\n",
        "print(Cubic_value)"
      ],
      "metadata": {
        "id": "8m6MhDnn0PZe"
      },
      "execution_count": null,
      "outputs": []
    },
    {
      "cell_type": "code",
      "source": [
        "# Exaple of reduce() function.\n",
        "from functools import reduce\n",
        "\n",
        "def multiply(x, y):\n",
        "    return x * y\n",
        "\n",
        "numbers = [1, 2, 3, 4]\n",
        "\n",
        "result = reduce(multiply, numbers)\n",
        "print(result)"
      ],
      "metadata": {
        "id": "8pm7xWB40mdn"
      },
      "execution_count": null,
      "outputs": []
    },
    {
      "cell_type": "code",
      "source": [
        "# Example of filter() function..\n",
        "\n",
        "Marks = [45, 35, 97, 85, 66]\n",
        "\n",
        "def failing(Score):\n",
        "  return Score<60\n",
        "\n",
        "Result = list(filter(failing,  Marks))\n",
        "\n",
        "print(\"Failing Marks: \", (Result))\n"
      ],
      "metadata": {
        "id": "QLmPuerw_20t"
      },
      "execution_count": null,
      "outputs": []
    },
    {
      "cell_type": "markdown",
      "source": [
        "11. Using pen & Paper write the internal mechanism for sum operation using  reduce function on this given\n",
        "\n",
        "    list:  [47,11,42,13];"
      ],
      "metadata": {
        "id": "QpW0lE0ZEX75"
      }
    },
    {
      "cell_type": "code",
      "source": [
        "from IPython.display import display, Image\n",
        "\n",
        "# Google Drive Image ID\n",
        "image_id = \"1RZ8PV2Gd7cHjJgo2hIoGTC-Q0rClF32M\"\n",
        "\n",
        "# Google Drive Direct Image URL\n",
        "image_url = f\"https://drive.google.com/uc?id={image_id}\"\n",
        "\n",
        "# Display Image\n",
        "display(Image(url=image_url))"
      ],
      "metadata": {
        "colab": {
          "base_uri": "https://localhost:8080/",
          "height": 38
        },
        "id": "qMmzQ9D4Stuq",
        "outputId": "c852e862-73b8-4b21-e8ce-a836f053a71a"
      },
      "execution_count": 43,
      "outputs": [
        {
          "output_type": "display_data",
          "data": {
            "text/html": [
              "<img src=\"https://drive.google.com/uc?id=1RZ8PV2Gd7cHjJgo2hIoGTC-Q0rClF32M\"/>"
            ],
            "text/plain": [
              "<IPython.core.display.Image object>"
            ]
          },
          "metadata": {}
        }
      ]
    },
    {
      "cell_type": "markdown",
      "source": [
        "# Practical Questions:"
      ],
      "metadata": {
        "id": "PvD7qzvTJ73S"
      }
    },
    {
      "cell_type": "code",
      "source": [
        "# 1. Write a Python function that takes a list of numbers as input and returns the sum of all even numbers in\n",
        "# the list.\n",
        "\n",
        "def num_sum(x):\n",
        "  sum1 = 0\n",
        "  for i in x:\n",
        "    if i%2 == 0:\n",
        "      sum1 = sum1 + i\n",
        "  return sum1\n",
        "\n",
        "num_sum([1, 2, 3, 4, 5, 6, 7, 8])"
      ],
      "metadata": {
        "id": "aCkswngiKZab"
      },
      "execution_count": null,
      "outputs": []
    },
    {
      "cell_type": "code",
      "source": [
        "# 2. Create a Python function that accepts a string and returns the reverse of that string.\n",
        "\n",
        "def check_str(x):\n",
        "    if type(x) == str:\n",
        "      x = x[::-1]\n",
        "    else:\n",
        "      pass\n",
        "    return x\n",
        "\n",
        "check_str(\"Anil\")\n"
      ],
      "metadata": {
        "id": "aRpQT2cnmcFq"
      },
      "execution_count": null,
      "outputs": []
    },
    {
      "cell_type": "code",
      "source": [
        "# 3. Implement a Python function that takes a list of integers and returns a new list containing the squares of\n",
        "# each number.\n",
        "\n",
        "def squared_num(x):\n",
        "  squared_num = []\n",
        "  for i in x:\n",
        "    i = i**2\n",
        "    squared_num.append(i)\n",
        "  return squared_num\n",
        "\n",
        "squared_num([1, 2, 3, 4, 5])"
      ],
      "metadata": {
        "id": "r92t5jJ2oVGm"
      },
      "execution_count": null,
      "outputs": []
    },
    {
      "cell_type": "code",
      "source": [
        "# 4. Write a Python function that checks if a given number is prime or not from 1 to 200.\n",
        "\n",
        "number = int(input(\"Enter a number here: \"))\n",
        "\n",
        "if number == 1:\n",
        "  print(\"It is not a prime number\")\n",
        "if number > 1:\n",
        "  for i in range(2, number):\n",
        "    if number % i == 0:\n",
        "      print(\"It is not a prime number\")\n",
        "      break\n",
        "  else:\n",
        "    print(\"It is a prime number\")"
      ],
      "metadata": {
        "id": "TUAsgLIypX8X"
      },
      "execution_count": null,
      "outputs": []
    },
    {
      "cell_type": "code",
      "source": [
        "# 5. Create an iterator class in Python that generates the Fibonacci sequence up to a specified number of terms.\n",
        "\n",
        "class FibonacciIterator:\n",
        "    def __init__(self, num_terms):\n",
        "        # Initialize with the number of terms I want to generate\n",
        "        self.num_terms = num_terms\n",
        "        self.current = 0\n",
        "        self.next_value = 1\n",
        "        self.index = 0\n",
        "\n",
        "    def __iter__(self):\n",
        "        # Returns the iterator object itself\n",
        "        return self\n",
        "\n",
        "    def __next__(self):\n",
        "        if self.index >= self.num_terms:\n",
        "            # Stop iteration if we reach the desired number of terms\n",
        "            raise StopIteration\n",
        "\n",
        "        # Return the current Fibonacci number and update for the next term\n",
        "        current_fib = self.current\n",
        "        self.current, self.next_value = self.next_value, self.current + self.next_value\n",
        "        self.index += 1\n",
        "        return current_fib\n",
        "\n",
        "# Example usage\n",
        "fibonacci_gen = FibonacciIterator(10)  # Generate the first 10 Fibonacci numbers\n",
        "for num in fibonacci_gen:\n",
        "    print(num)\n"
      ],
      "metadata": {
        "id": "Pk1r2Umnm55F"
      },
      "execution_count": null,
      "outputs": []
    },
    {
      "cell_type": "code",
      "source": [
        "# 6.  Write a generator function in Python that yields the powers of 2 up to a given exponent.\n",
        "\n",
        "def powers_of_2(n):\n",
        "    for i in range(n + 1):\n",
        "        yield 2 ** i\n",
        "\n",
        "\n",
        "for power in powers_of_2(5):\n",
        "  print(power)"
      ],
      "metadata": {
        "id": "BLxJi4Axq9RV"
      },
      "execution_count": null,
      "outputs": []
    },
    {
      "cell_type": "code",
      "source": [
        "# 7.  Implement a generator function that reads a file line by line and yields each line as a string.\n",
        "\n",
        "def read_file_lines(file_path):\n",
        "    with open(file_path, 'r') as file:\n",
        "        for line in file:\n",
        "            yield line.strip()  # Strip to remove any extra newline characters\n",
        "\n",
        "# Example usage\n",
        "file_path = 'example.txt'  # Replace with the path to your file\n",
        "for line in read_file_lines(file_path):\n",
        "    print(line)\n",
        "\n"
      ],
      "metadata": {
        "id": "z-nodkvPsCb2"
      },
      "execution_count": null,
      "outputs": []
    },
    {
      "cell_type": "code",
      "source": [
        "# 8. Use a lambda function in Python to sort a list of tuples based on the second element of each tuple.\n",
        "\n",
        "value = [(1, 3), (4, 1), (2, 5), (3, 2), (10, 0), (0, 0)]\n",
        "\n",
        "result = sorted(value, key=lambda x: x[1])\n",
        "\n",
        "print(result)\n"
      ],
      "metadata": {
        "id": "r6LzDNjQs8DV"
      },
      "execution_count": null,
      "outputs": []
    },
    {
      "cell_type": "code",
      "source": [
        "# 9. Write a Python program that uses `map()` to convert a list of temperatures from Celsius to Fahrenheit.\n",
        "\n",
        "celsius = [0, 20, 25, 30, 35]\n",
        "\n",
        "def cel_to_fah(celsius):\n",
        "    return (celsius * 9/5) + 32\n",
        "\n",
        "fahrenheit_temps = list(map(cel_to_fah, celsius))\n",
        "\n",
        "print(fahrenheit_temps)\n"
      ],
      "metadata": {
        "id": "p7iBvml5uSFe"
      },
      "execution_count": null,
      "outputs": []
    },
    {
      "cell_type": "code",
      "source": [
        "# 10. 10. Create a Python program that uses `filter()` to remove all the vowels from a given string.\n",
        "\n",
        "string = \"Anil Kumar\"\n",
        "\n",
        "def is_not_vowel(char):\n",
        "    return char.lower() not in 'aeiou'\n",
        "\n",
        "filtered_string = ''.join(filter(is_not_vowel, string))\n",
        "\n",
        "print(filtered_string)\n"
      ],
      "metadata": {
        "id": "hkkuYuldvFXc"
      },
      "execution_count": null,
      "outputs": []
    },
    {
      "cell_type": "code",
      "source": [
        "\"\"\"\n",
        "11. Imagine an accounting routine used in a book shop. It works on a list with sublists, which look like this:\n",
        "\n",
        "Write a Python program, which returns a list with 2-tuples. Each tuple consists of the order number and the\n",
        "product of the price per item and the quantity. The product should be increased by 10,- € if the value of the\n",
        "order is smaller than 100,00 €.\n",
        "\n",
        "Write a Python program using lambda and map.\n",
        "\"\"\"\n",
        "\n",
        "Orders = [\n",
        "          [34587,            \"Learning Python, Mark Lutz\",                4,          40.95],\n",
        "          [98762,            \"Programming Python, Mark Lutz\",            5,         56.80],\n",
        "          [726,             \"Head First Python, Paul Barry\",             3,          32.95],\n",
        "          [88112,            \"Einfuhrung in Python3, Benrnd Klein\",       3,          24.99\n",
        "          ]]\n",
        "\n",
        "\n",
        "result = list(map(lambda x: (x[0], (x[3] * x[2]) + 10 if (x[3] * x[2]) < 100 else x[3] * x[2]), Orders[1:]))\n",
        "\n",
        "\n",
        "print(result)\n",
        "\n"
      ],
      "metadata": {
        "id": "G9OC7Zapv4yP"
      },
      "execution_count": null,
      "outputs": []
    }
  ]
}